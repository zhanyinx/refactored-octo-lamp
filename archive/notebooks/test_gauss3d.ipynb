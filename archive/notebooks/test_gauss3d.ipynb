{
 "cells": [
  {
   "cell_type": "code",
   "execution_count": 27,
   "metadata": {},
   "outputs": [
    {
     "name": "stdout",
     "output_type": "stream",
     "text": [
      "The autoreload extension is already loaded. To reload it, use:\n",
      "  %reload_ext autoreload\n"
     ]
    }
   ],
   "source": [
    "import scipy.optimize as opt\n",
    "import numpy as np\n",
    "%load_ext autoreload\n",
    "%autoreload 2\n",
    "import matplotlib.pyplot as plt\n",
    "import ipywidgets as widgets\n",
    "from ipywidgets import interact, interactive, fixed, interact_manual"
   ]
  },
  {
   "cell_type": "code",
   "execution_count": 12,
   "metadata": {},
   "outputs": [],
   "source": [
    "def gauss_3d(xyz, amplitude, x0, y0, z0, sigma_xy, sigma_z, offset):\n",
    "    \"\"\"3D gaussian.\"\"\"\n",
    "    x, y, z = xyz\n",
    "    x0 = float(x0)\n",
    "    y0 = float(y0)\n",
    "    z0 = float(z0)\n",
    "    \n",
    "    gauss = offset + amplitude * np.exp(\n",
    "        -(((x - x0) ** (2) / (2 * sigma_xy ** (2))) + ((y - y0) ** (2) / (2 * sigma_xy ** (2))) + ((z - z0) ** (2) / (2 * sigma_z ** (2))))\n",
    "    )\n",
    "    return gauss"
   ]
  },
  {
   "cell_type": "code",
   "execution_count": 45,
   "metadata": {},
   "outputs": [],
   "source": [
    "x = np.arange(0, 200, 1)\n",
    "y = np.arange(0, 200, 1)\n",
    "z = np.arange(0,20,1)\n",
    "\n",
    "xx, yy, zz = np.meshgrid(x,y,z)\n",
    "crop = gauss_3d([xx,yy,zz],10,100,100,10,2,2,10)"
   ]
  },
  {
   "cell_type": "code",
   "execution_count": 51,
   "metadata": {},
   "outputs": [],
   "source": [
    "\n",
    "# Guess intial parameters\n",
    "x0 = int(crop.shape[0] // 2)  # Middle of the crop\n",
    "y0 = int(crop.shape[1] // 2)  # Middle of the crop\n",
    "z0 = int(crop.shape[2] // 2)  # Middle of the crop\n",
    "sigma = (crop.shape[0]) * 0.1  # 10% of the crop\n",
    "sigma_z = crop.shape[-1] * 0.1  # 10% of the crop\n",
    "amplitude_max = np.max(crop) / 2  # Maximum value of the crop\n",
    "initial_guess = [amplitude_max, x0, y0, z0, sigma, sigma_z, 0]\n",
    "\n",
    "lower = [0, 0, 0, 0, 0, 0, 0]\n",
    "upper = [np.max(crop), crop.shape[0], crop.shape[1], crop.shape[2], np.inf, np.inf, np.max(crop)]\n",
    "bounds = [lower, upper]\n",
    "\n",
    "popt, _ = opt.curve_fit(gauss_3d, (xx.ravel(), yy.ravel(), zz.ravel()), crop.ravel(), p0=initial_guess, bounds=bounds)"
   ]
  },
  {
   "cell_type": "code",
   "execution_count": null,
   "metadata": {},
   "outputs": [],
   "source": []
  }
 ],
 "metadata": {
  "kernelspec": {
   "display_name": "Python 3",
   "language": "python",
   "name": "python3"
  },
  "language_info": {
   "codemirror_mode": {
    "name": "ipython",
    "version": 3
   },
   "file_extension": ".py",
   "mimetype": "text/x-python",
   "name": "python",
   "nbconvert_exporter": "python",
   "pygments_lexer": "ipython3",
   "version": "3.7.7"
  }
 },
 "nbformat": 4,
 "nbformat_minor": 4
}
