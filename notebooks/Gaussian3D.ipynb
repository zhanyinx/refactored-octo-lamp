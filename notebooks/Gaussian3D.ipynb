{
 "cells": [
  {
   "cell_type": "code",
   "execution_count": 3,
   "metadata": {},
   "outputs": [],
   "source": [
    "import numpy as np\n",
    "import sys\n",
    "import matplotlib.pyplot as plt\n",
    "import scipy.optimize as opt\n",
    "%load_ext autoreload\n",
    "%autoreload 2\n",
    "\n",
    "sys.path.append(\"../\")\n",
    "from training.util_prediction import get_coordinate_list"
   ]
  },
  {
   "cell_type": "markdown",
   "metadata": {},
   "source": [
    "## import data"
   ]
  },
  {
   "cell_type": "code",
   "execution_count": 4,
   "metadata": {},
   "outputs": [],
   "source": [
    "dataset = \"../data/spots_synt_harder_e4cd83b6.npz\"\n",
    "with np.load(dataset, allow_pickle=True) as data:\n",
    "        train_x = data[\"x_train\"]\n",
    "        valid_x = data[\"x_valid\"]\n",
    "        test_x = data[\"x_test\"]\n",
    "        train_y = data[\"y_train\"]\n",
    "        valid_y = data[\"y_valid\"]\n",
    "        test_y = data[\"y_test\"]"
   ]
  },
  {
   "cell_type": "code",
   "execution_count": 73,
   "metadata": {},
   "outputs": [
    {
     "data": {
      "text/plain": [
       "<matplotlib.collections.PathCollection at 0x7fb0846ee400>"
      ]
     },
     "execution_count": 73,
     "metadata": {},
     "output_type": "execute_result"
    },
    {
     "data": {
      "image/png": "[encoded data removed]",
      "text/plain": [
       "<Figure size 432x288 with 1 Axes>"
      ]
     },
     "metadata": {
      "needs_background": "light"
     },
     "output_type": "display_data"
    }
   ],
   "source": [
    "idx = 3\n",
    "init = 116\n",
    "init_1 = 116\n",
    "size = 8\n",
    "image = train_x[idx]\n",
    "image = image[init:(init+size),init_1:(init_1+size)]\n",
    "mask = train_y[idx]\n",
    "mask = mask[int(init/4):int((init+size)/4),int(init_1/4):int((init_1+size)/4)]\n",
    "\n",
    "plt.imshow(image)\n",
    "coordList = get_coordinate_list(mask,512,128)\n",
    "plt.scatter(coordList[...,0],coordList[...,1],marker=\"+\",color='r',s=20)\n",
    "plt.scatter(x0,y0,marker=\"+\",color='b',s=20)\n"
   ]
  },
  {
   "cell_type": "code",
   "execution_count": 70,
   "metadata": {},
   "outputs": [],
   "source": [
    "# define Gaussian\n",
    "def twoD_Gauss(xy,amplitude,x0,y0,sigma_xy,offset):\n",
    "    x,y = xy\n",
    "    x0=float(x0)\n",
    "    y0=float(y0)\n",
    "    g = offset + amplitude*np.exp(-(((x-x0)**(2)/(2*sigma_xy**(2))) + ((y-y0)**(2)/(2*sigma_xy**(2)))))\n",
    "    return g\n"
   ]
  },
  {
   "cell_type": "code",
   "execution_count": 71,
   "metadata": {},
   "outputs": [],
   "source": [
    "x = np.arange(0, image.shape[1], 1)\n",
    "y = np.arange(0, image.shape[0], 1)\n",
    "xx, yy = np.meshgrid(x, y)\n",
    "\n",
    "# Guess intial parameters\n",
    "x0 = int(image.shape[0]//2) # Middle of the image\n",
    "y0 = int(image.shape[1]//2) # Middle of the image\n",
    "sigma = max(*image.shape) * 0.1 # 10% of the image\n",
    "H = np.max(image)/2 # Maximum value of the image\n",
    "initial_guess = [H, x0, y0, sigma, 0]\n",
    "\n",
    "lower = [0, 0, 0, 0, 0]\n",
    "upper = [np.max(image), image.shape[0], image.shape[1], np.inf, np.max(image)]\n",
    "bounds = [lower, upper]\n",
    "\n",
    "popt, pcov = opt.curve_fit(twoD_Gauss, (xx.ravel(),yy.ravel()), image.ravel(), p0 = initial_guess, bounds=bounds)"
   ]
  },
  {
   "cell_type": "code",
   "execution_count": 72,
   "metadata": {},
   "outputs": [],
   "source": [
    "amp, x0, y0, sigma, offset = popt\n"
   ]
  },
  {
   "cell_type": "code",
   "execution_count": 44,
   "metadata": {},
   "outputs": [
    {
     "data": {
      "text/plain": [
       "array([0, 1, 2, 3, 4, 5, 6, 7, 0, 1, 2, 3, 4, 5, 6, 7, 0, 1, 2, 3, 4, 5,\n",
       "       6, 7, 0, 1, 2, 3, 4, 5, 6, 7, 0, 1, 2, 3, 4, 5, 6, 7, 0, 1, 2, 3,\n",
       "       4, 5, 6, 7, 0, 1, 2, 3, 4, 5, 6, 7, 0, 1, 2, 3, 4, 5, 6, 7])"
      ]
     },
     "execution_count": 44,
     "metadata": {},
     "output_type": "execute_result"
    }
   ],
   "source": [
    "xx.ravel()"
   ]
  },
  {
   "cell_type": "code",
   "execution_count": 64,
   "metadata": {},
   "outputs": [
    {
     "data": {
      "text/plain": [
       "1.4371590744888123"
      ]
     },
     "execution_count": 64,
     "metadata": {},
     "output_type": "execute_result"
    }
   ],
   "source": [
    "x0"
   ]
  },
  {
   "cell_type": "code",
   "execution_count": 52,
   "metadata": {},
   "outputs": [
    {
     "data": {
      "text/plain": [
       "array([9.51738009e-04, 7.99989605e+00, 6.84980024e+00, 1.79231760e-02,\n",
       "       1.51960790e-02])"
      ]
     },
     "execution_count": 52,
     "metadata": {},
     "output_type": "execute_result"
    }
   ],
   "source": [
    "popt"
   ]
  },
  {
   "cell_type": "code",
   "execution_count": 54,
   "metadata": {},
   "outputs": [
    {
     "ename": "SyntaxError",
     "evalue": "illegal target for annotation (<ipython-input-54-f8a7310bf5ed>, line 1)",
     "output_type": "error",
     "traceback": [
      "\u001b[0;36m  File \u001b[0;32m\"<ipython-input-54-f8a7310bf5ed>\"\u001b[0;36m, line \u001b[0;32m1\u001b[0m\n\u001b[0;31m    int(init/4+1):int((init+size+size)/4)\u001b[0m\n\u001b[0m                                         ^\u001b[0m\n\u001b[0;31mSyntaxError\u001b[0m\u001b[0;31m:\u001b[0m illegal target for annotation\n"
     ]
    }
   ],
   "source": [
    "int(init/4+1):int((init+size+size)/4)"
   ]
  },
  {
   "cell_type": "code",
   "execution_count": null,
   "metadata": {},
   "outputs": [],
   "source": []
  }
 ],
 "metadata": {
  "kernelspec": {
   "display_name": "Python 3",
   "language": "python",
   "name": "python3"
  },
  "language_info": {
   "codemirror_mode": {
    "name": "ipython",
    "version": 3
   },
   "file_extension": ".py",
   "mimetype": "text/x-python",
   "name": "python",
   "nbconvert_exporter": "python",
   "pygments_lexer": "ipython3",
   "version": "3.7.3"
  }
 },
 "nbformat": 4,
 "nbformat_minor": 4
}
